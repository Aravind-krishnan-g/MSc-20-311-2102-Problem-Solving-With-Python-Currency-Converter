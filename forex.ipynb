{
 "cells": [
  {
   "cell_type": "markdown",
   "metadata": {},
   "source": [
    "# ONLINE CURRENCY CONVERTER"
   ]
  },
  {
   "cell_type": "code",
   "execution_count": null,
   "metadata": {},
   "outputs": [],
   "source": [
    "# pip install forex-python streamlit"
   ]
  },
  {
   "cell_type": "markdown",
   "metadata": {},
   "source": [
    "## IMPORTING LIBRARIES"
   ]
  },
  {
   "cell_type": "markdown",
   "metadata": {},
   "source": [
    "Documentations for these libraries: [forex_python](https://forex-python.readthedocs.io/en/latest/index.html) and [streamlit](https://docs.streamlit.io/en/stable/index.html)"
   ]
  },
  {
   "cell_type": "code",
   "execution_count": 11,
   "metadata": {},
   "outputs": [],
   "source": [
    "from forex_python.converter import CurrencyRates # module to convert currency\n",
    "import streamlit as st # web app framework library"
   ]
  },
  {
   "cell_type": "markdown",
   "metadata": {},
   "source": [
    "## MAIN CODE"
   ]
  },
  {
   "cell_type": "code",
   "execution_count": 12,
   "metadata": {},
   "outputs": [],
   "source": [
    "class converter:\n",
    "    \n",
    "    def __init__(self):\n",
    "        # the below dictionary contains collection of supported currencies in forex_python\n",
    "        # dictionary keys represent common currency names\n",
    "        # while values are their corresponding 3 letter code\n",
    "        self.dict_of_currencies = {'Euro Member Countries':'EUR', 'Indonesia Rupiah'    :'IDR', 'Bulgaria Lev'       :'BGN',\n",
    "                              'Israel Shekel'        :'ILS', 'United Kingdom Pound':'GBP', 'Denmark Krone'      :'DKK',\n",
    "                              'Canada Dollar'        :'CAD', 'Japan Yen'           :'JPY', 'Hungary Forint'     :'HUF',\n",
    "                              'Romania New Leu'      :'RON', 'Malaysia Ringgit'    :'MYR', 'Sweden Krona'       :'SEK',\n",
    "                              'Singapore Dollar'     :'SGD', 'Hong Kong Dollar'    :'HKD', 'Australia Dollar'   :'AUD',\n",
    "                              'Switzerland Franc'    :'CHF', 'South Korea Won'     :'KRW', 'China Yuan Renminbi':'CNY',\n",
    "                              'Turkey Lira'          :'TRY', 'Croatia Kuna'        :'HRK', 'New Zealand Dollar' :'NZD',\n",
    "                              'Thailand Baht'        :'THB', 'United States Dollar':'USD', 'Norway Krone'       :'NOK',\n",
    "                              'Russia Ruble'         :'RUB', 'India Rupee'         :'INR', 'Mexico Peso'        :'MXN',\n",
    "                              'Czech Republic Koruna':'CZK', 'Brazil Real'         :'BRL', 'Poland Zloty'       :'PLN',\n",
    "                              'Philippines Peso'     :'PHP', 'South Africa Rand'   :'ZAR' }\n",
    "        \n",
    "        self.c = CurrencyRates() # creating an object of the module\n",
    "\n",
    "    # function 'display' will contain the web framework using streamlit\n",
    "    def display(self): \n",
    "        \n",
    "        st.title('Online currency converter')   # setting title of the app      \n",
    "        exp= st.beta_expander(\"About\") # 'About' section contains details about the project\n",
    "        exp.write(\"This web application was developed using [forex-python](https://forex-python.readthedocs.io/en/latest/index.html) and [streamlit](https://docs.streamlit.io/en/stable/index.html) web application framework.\")\n",
    "        exp.write(\" This project was done as a part of Msc-Problem solving with python course.\") \n",
    "        exp.write(\"You can check out the work at [github](https://github.com/Aravind-krishnan-g/MSc-20-311-2102-Problem-Solving-With-Python-Currency-Converter)\")\n",
    "        \n",
    "        option=st.selectbox('Select an option',['Get forex rate','Convert currency']) # user can select either of 2 options\n",
    "        option1 = st.selectbox('Select a currency',list(self.dict_of_currencies.keys())) # selecting 1st currency\n",
    "        try:\n",
    "            if(option == 'Convert currency'):\n",
    "                amount=st.number_input(\"Enter amount to convert\") # area to enter amount to convert\n",
    "            else:\n",
    "                amount=1.0   \n",
    "        except:\n",
    "            st.error(\"Error occured. Please ensure that you entered a number!\")\n",
    "        option2 = st.selectbox('Select another currency',list(self.dict_of_currencies.keys())) # selecting second currency\n",
    "        c1=self.dict_of_currencies[option1] # converting currency to 3 letter code\n",
    "        c2=self.dict_of_currencies[option2] # converting currency to 3 letter code\n",
    "        \n",
    "        if c1 and c2 : # checking whether both currency options are entered\n",
    "            if(st.button(\"Show\")): # button to show result\n",
    "                with st.spinner('Calculating.....'):\n",
    "                    output=self.c.convert(c1,c2,amount) # calculating conversion\n",
    "                st.write(\"Selected conversion : \",option1,\" to \",option2)\n",
    "                st.write(amount,\" \",option1,\" = \",output,\" \",option2) # displaying result\n",
    "                        \n",
    "    "
   ]
  },
  {
   "cell_type": "markdown",
   "metadata": {},
   "source": [
    "## DRIVER CODE"
   ]
  },
  {
   "cell_type": "code",
   "execution_count": 13,
   "metadata": {},
   "outputs": [],
   "source": [
    "\n",
    "class_object = converter() # creating class object\n",
    "class_object.display() # calling web application"
   ]
  }
 ],
 "metadata": {
  "kernelspec": {
   "display_name": "Python 3",
   "language": "python",
   "name": "python3"
  },
  "language_info": {
   "codemirror_mode": {
    "name": "ipython",
    "version": 3
   },
   "file_extension": ".py",
   "mimetype": "text/x-python",
   "name": "python",
   "nbconvert_exporter": "python",
   "pygments_lexer": "ipython3",
   "version": "3.8.3"
  }
 },
 "nbformat": 4,
 "nbformat_minor": 4
}
